{
 "cells": [
  {
   "cell_type": "markdown",
   "metadata": {},
   "source": [
    "# Default of Credit Card Clients"
   ]
  },
  {
   "cell_type": "markdown",
   "metadata": {},
   "source": [
    "**Dataset Information**"
   ]
  },
  {
   "cell_type": "markdown",
   "metadata": {},
   "source": [
    "This dataset contains information on default payments, demographic factors, credit data, history of payment, and bill statements of credit card clients in Taiwan from April 2005 to September 2005.\n",
    "https://www.kaggle.com/uciml/default-of-credit-card-clients-dataset"
   ]
  },
  {
   "cell_type": "markdown",
   "metadata": {},
   "source": [
    "# Analytical Test"
   ]
  },
  {
   "cell_type": "markdown",
   "metadata": {},
   "source": [
    "I will start by importing the libraries needed first for reading and displaying data."
   ]
  },
  {
   "cell_type": "code",
   "execution_count": 1,
   "metadata": {},
   "outputs": [],
   "source": [
    "import pandas as pd\n",
    "import numpy as np\n",
    "import seaborn as sns\n",
    "import matplotlib.pyplot as plt"
   ]
  },
  {
   "cell_type": "markdown",
   "metadata": {},
   "source": [
    "The data is loaded and stored in the dataframe df, and with the info() function I will have a first impression of the variables."
   ]
  },
  {
   "cell_type": "code",
   "execution_count": 2,
   "metadata": {},
   "outputs": [
    {
     "data": {
      "text/html": [
       "<div>\n",
       "<style scoped>\n",
       "    .dataframe tbody tr th:only-of-type {\n",
       "        vertical-align: middle;\n",
       "    }\n",
       "\n",
       "    .dataframe tbody tr th {\n",
       "        vertical-align: top;\n",
       "    }\n",
       "\n",
       "    .dataframe thead th {\n",
       "        text-align: right;\n",
       "    }\n",
       "</style>\n",
       "<table border=\"1\" class=\"dataframe\">\n",
       "  <thead>\n",
       "    <tr style=\"text-align: right;\">\n",
       "      <th></th>\n",
       "      <th>ID</th>\n",
       "      <th>LIMIT_BAL</th>\n",
       "      <th>SEX</th>\n",
       "      <th>EDUCATION</th>\n",
       "      <th>MARRIAGE</th>\n",
       "      <th>AGE</th>\n",
       "      <th>PAY_0</th>\n",
       "      <th>PAY_2</th>\n",
       "      <th>PAY_3</th>\n",
       "      <th>PAY_4</th>\n",
       "      <th>...</th>\n",
       "      <th>BILL_AMT4</th>\n",
       "      <th>BILL_AMT5</th>\n",
       "      <th>BILL_AMT6</th>\n",
       "      <th>PAY_AMT1</th>\n",
       "      <th>PAY_AMT2</th>\n",
       "      <th>PAY_AMT3</th>\n",
       "      <th>PAY_AMT4</th>\n",
       "      <th>PAY_AMT5</th>\n",
       "      <th>PAY_AMT6</th>\n",
       "      <th>default</th>\n",
       "    </tr>\n",
       "  </thead>\n",
       "  <tbody>\n",
       "    <tr>\n",
       "      <th>0</th>\n",
       "      <td>8920</td>\n",
       "      <td>50000</td>\n",
       "      <td>1</td>\n",
       "      <td>1</td>\n",
       "      <td>2</td>\n",
       "      <td>23</td>\n",
       "      <td>2</td>\n",
       "      <td>3</td>\n",
       "      <td>2</td>\n",
       "      <td>0</td>\n",
       "      <td>...</td>\n",
       "      <td>8687</td>\n",
       "      <td>9048</td>\n",
       "      <td>9306</td>\n",
       "      <td>0</td>\n",
       "      <td>1000</td>\n",
       "      <td>810</td>\n",
       "      <td>500</td>\n",
       "      <td>408</td>\n",
       "      <td>500</td>\n",
       "      <td>1</td>\n",
       "    </tr>\n",
       "    <tr>\n",
       "      <th>1</th>\n",
       "      <td>8926</td>\n",
       "      <td>20000</td>\n",
       "      <td>1</td>\n",
       "      <td>3</td>\n",
       "      <td>1</td>\n",
       "      <td>51</td>\n",
       "      <td>0</td>\n",
       "      <td>0</td>\n",
       "      <td>0</td>\n",
       "      <td>0</td>\n",
       "      <td>...</td>\n",
       "      <td>18905</td>\n",
       "      <td>19462</td>\n",
       "      <td>18967</td>\n",
       "      <td>1266</td>\n",
       "      <td>1270</td>\n",
       "      <td>2800</td>\n",
       "      <td>1000</td>\n",
       "      <td>0</td>\n",
       "      <td>512</td>\n",
       "      <td>1</td>\n",
       "    </tr>\n",
       "    <tr>\n",
       "      <th>2</th>\n",
       "      <td>8930</td>\n",
       "      <td>10000</td>\n",
       "      <td>1</td>\n",
       "      <td>2</td>\n",
       "      <td>2</td>\n",
       "      <td>29</td>\n",
       "      <td>2</td>\n",
       "      <td>2</td>\n",
       "      <td>2</td>\n",
       "      <td>2</td>\n",
       "      <td>...</td>\n",
       "      <td>9089</td>\n",
       "      <td>8658</td>\n",
       "      <td>8372</td>\n",
       "      <td>2600</td>\n",
       "      <td>600</td>\n",
       "      <td>895</td>\n",
       "      <td>0</td>\n",
       "      <td>0</td>\n",
       "      <td>764</td>\n",
       "      <td>1</td>\n",
       "    </tr>\n",
       "    <tr>\n",
       "      <th>3</th>\n",
       "      <td>8933</td>\n",
       "      <td>240000</td>\n",
       "      <td>2</td>\n",
       "      <td>2</td>\n",
       "      <td>2</td>\n",
       "      <td>42</td>\n",
       "      <td>1</td>\n",
       "      <td>2</td>\n",
       "      <td>2</td>\n",
       "      <td>0</td>\n",
       "      <td>...</td>\n",
       "      <td>166813</td>\n",
       "      <td>170739</td>\n",
       "      <td>174532</td>\n",
       "      <td>6700</td>\n",
       "      <td>0</td>\n",
       "      <td>6900</td>\n",
       "      <td>6000</td>\n",
       "      <td>6000</td>\n",
       "      <td>6000</td>\n",
       "      <td>1</td>\n",
       "    </tr>\n",
       "    <tr>\n",
       "      <th>4</th>\n",
       "      <td>8938</td>\n",
       "      <td>170000</td>\n",
       "      <td>2</td>\n",
       "      <td>1</td>\n",
       "      <td>2</td>\n",
       "      <td>30</td>\n",
       "      <td>2</td>\n",
       "      <td>0</td>\n",
       "      <td>0</td>\n",
       "      <td>0</td>\n",
       "      <td>...</td>\n",
       "      <td>30183</td>\n",
       "      <td>31041</td>\n",
       "      <td>31871</td>\n",
       "      <td>2000</td>\n",
       "      <td>2000</td>\n",
       "      <td>1233</td>\n",
       "      <td>1500</td>\n",
       "      <td>1500</td>\n",
       "      <td>2000</td>\n",
       "      <td>1</td>\n",
       "    </tr>\n",
       "  </tbody>\n",
       "</table>\n",
       "<p>5 rows × 25 columns</p>\n",
       "</div>"
      ],
      "text/plain": [
       "     ID  LIMIT_BAL  SEX  EDUCATION  MARRIAGE  AGE  PAY_0  PAY_2  PAY_3  PAY_4  \\\n",
       "0  8920      50000    1          1         2   23      2      3      2      0   \n",
       "1  8926      20000    1          3         1   51      0      0      0      0   \n",
       "2  8930      10000    1          2         2   29      2      2      2      2   \n",
       "3  8933     240000    2          2         2   42      1      2      2      0   \n",
       "4  8938     170000    2          1         2   30      2      0      0      0   \n",
       "\n",
       "   ...  BILL_AMT4  BILL_AMT5  BILL_AMT6  PAY_AMT1  PAY_AMT2  PAY_AMT3  \\\n",
       "0  ...       8687       9048       9306         0      1000       810   \n",
       "1  ...      18905      19462      18967      1266      1270      2800   \n",
       "2  ...       9089       8658       8372      2600       600       895   \n",
       "3  ...     166813     170739     174532      6700         0      6900   \n",
       "4  ...      30183      31041      31871      2000      2000      1233   \n",
       "\n",
       "   PAY_AMT4  PAY_AMT5  PAY_AMT6  default  \n",
       "0       500       408       500        1  \n",
       "1      1000         0       512        1  \n",
       "2         0         0       764        1  \n",
       "3      6000      6000      6000        1  \n",
       "4      1500      1500      2000        1  \n",
       "\n",
       "[5 rows x 25 columns]"
      ]
     },
     "execution_count": 2,
     "metadata": {},
     "output_type": "execute_result"
    }
   ],
   "source": [
    "df = pd.read_csv('default_dataset.csv')\n",
    "df.head()"
   ]
  },
  {
   "cell_type": "code",
   "execution_count": 3,
   "metadata": {},
   "outputs": [
    {
     "name": "stdout",
     "output_type": "stream",
     "text": [
      "<class 'pandas.core.frame.DataFrame'>\n",
      "RangeIndex: 27999 entries, 0 to 27998\n",
      "Data columns (total 25 columns):\n",
      " #   Column     Non-Null Count  Dtype\n",
      "---  ------     --------------  -----\n",
      " 0   ID         27999 non-null  int64\n",
      " 1   LIMIT_BAL  27999 non-null  int64\n",
      " 2   SEX        27999 non-null  int64\n",
      " 3   EDUCATION  27999 non-null  int64\n",
      " 4   MARRIAGE   27999 non-null  int64\n",
      " 5   AGE        27999 non-null  int64\n",
      " 6   PAY_0      27999 non-null  int64\n",
      " 7   PAY_2      27999 non-null  int64\n",
      " 8   PAY_3      27999 non-null  int64\n",
      " 9   PAY_4      27999 non-null  int64\n",
      " 10  PAY_5      27999 non-null  int64\n",
      " 11  PAY_6      27999 non-null  int64\n",
      " 12  BILL_AMT1  27999 non-null  int64\n",
      " 13  BILL_AMT2  27999 non-null  int64\n",
      " 14  BILL_AMT3  27999 non-null  int64\n",
      " 15  BILL_AMT4  27999 non-null  int64\n",
      " 16  BILL_AMT5  27999 non-null  int64\n",
      " 17  BILL_AMT6  27999 non-null  int64\n",
      " 18  PAY_AMT1   27999 non-null  int64\n",
      " 19  PAY_AMT2   27999 non-null  int64\n",
      " 20  PAY_AMT3   27999 non-null  int64\n",
      " 21  PAY_AMT4   27999 non-null  int64\n",
      " 22  PAY_AMT5   27999 non-null  int64\n",
      " 23  PAY_AMT6   27999 non-null  int64\n",
      " 24  default    27999 non-null  int64\n",
      "dtypes: int64(25)\n",
      "memory usage: 5.3 MB\n"
     ]
    }
   ],
   "source": [
    "df.info()"
   ]
  },
  {
   "cell_type": "code",
   "execution_count": 4,
   "metadata": {},
   "outputs": [
    {
     "data": {
      "text/html": [
       "<div>\n",
       "<style scoped>\n",
       "    .dataframe tbody tr th:only-of-type {\n",
       "        vertical-align: middle;\n",
       "    }\n",
       "\n",
       "    .dataframe tbody tr th {\n",
       "        vertical-align: top;\n",
       "    }\n",
       "\n",
       "    .dataframe thead th {\n",
       "        text-align: right;\n",
       "    }\n",
       "</style>\n",
       "<table border=\"1\" class=\"dataframe\">\n",
       "  <thead>\n",
       "    <tr style=\"text-align: right;\">\n",
       "      <th></th>\n",
       "      <th>ID</th>\n",
       "      <th>LIMIT_BAL</th>\n",
       "      <th>SEX</th>\n",
       "      <th>EDUCATION</th>\n",
       "      <th>MARRIAGE</th>\n",
       "      <th>AGE</th>\n",
       "      <th>PAY_0</th>\n",
       "      <th>PAY_2</th>\n",
       "      <th>PAY_3</th>\n",
       "      <th>PAY_4</th>\n",
       "      <th>...</th>\n",
       "      <th>BILL_AMT4</th>\n",
       "      <th>BILL_AMT5</th>\n",
       "      <th>BILL_AMT6</th>\n",
       "      <th>PAY_AMT1</th>\n",
       "      <th>PAY_AMT2</th>\n",
       "      <th>PAY_AMT3</th>\n",
       "      <th>PAY_AMT4</th>\n",
       "      <th>PAY_AMT5</th>\n",
       "      <th>PAY_AMT6</th>\n",
       "      <th>default</th>\n",
       "    </tr>\n",
       "  </thead>\n",
       "  <tbody>\n",
       "  </tbody>\n",
       "</table>\n",
       "<p>0 rows × 25 columns</p>\n",
       "</div>"
      ],
      "text/plain": [
       "Empty DataFrame\n",
       "Columns: [ID, LIMIT_BAL, SEX, EDUCATION, MARRIAGE, AGE, PAY_0, PAY_2, PAY_3, PAY_4, PAY_5, PAY_6, BILL_AMT1, BILL_AMT2, BILL_AMT3, BILL_AMT4, BILL_AMT5, BILL_AMT6, PAY_AMT1, PAY_AMT2, PAY_AMT3, PAY_AMT4, PAY_AMT5, PAY_AMT6, default]\n",
       "Index: []\n",
       "\n",
       "[0 rows x 25 columns]"
      ]
     },
     "execution_count": 4,
     "metadata": {},
     "output_type": "execute_result"
    }
   ],
   "source": [
    "duplicados = df[df.duplicated(keep='first')]\n",
    "duplicados"
   ]
  },
  {
   "cell_type": "markdown",
   "metadata": {},
   "source": [
    "It can be identified that the data frame is composed of 25 columns and 27999 rows.\n",
    "Within these 25 characteristics there are continuous variables (payments, account status) and categorical variables (gender, education). However, one advantage is that the categorical ones are already detailed in numerical form (int64). In itself, the variable 'ID' is not a data that could contribute to the model so I would not consider it for the analysis. I may also note that no null variables are present in any of the rows."
   ]
  },
  {
   "cell_type": "markdown",
   "metadata": {},
   "source": [
    "**First Analysis**: since the objective is to develop a model to calculate the probability of non-payment of a customer as shown in the 'default' column, the model to be developed is of the Binary Classification type (yes=1,no=0). My hypothesis would be based on giving priority or weight to the probability of predicting customers with default (1) or non-payment, since this is the component that is giving losses to the bank."
   ]
  },
  {
   "cell_type": "markdown",
   "metadata": {},
   "source": [
    "## Data visualization"
   ]
  },
  {
   "cell_type": "code",
   "execution_count": 5,
   "metadata": {},
   "outputs": [],
   "source": [
    "data =df.copy()"
   ]
  },
  {
   "cell_type": "code",
   "execution_count": 6,
   "metadata": {},
   "outputs": [
    {
     "name": "stdout",
     "output_type": "stream",
     "text": [
      "   default  value_counts\n",
      "0        0         23362\n",
      "1        1          4637\n"
     ]
    },
    {
     "data": {
      "image/png": "[encoded data removed]",
      "text/plain": [
       "<Figure size 432x288 with 1 Axes>"
      ]
     },
     "metadata": {
      "needs_background": "light"
     },
     "output_type": "display_data"
    }
   ],
   "source": [
    "default_count = df['default'].value_counts().to_frame().reset_index()\n",
    "default_count.rename(columns={'default': 'value_counts','index':'default'}, inplace=True)\n",
    "sns.barplot(x='default',y='value_counts',edgecolor=\"black\", data=default_count)\n",
    "print(default_count)"
   ]
  },
  {
   "cell_type": "markdown",
   "metadata": {},
   "source": [
    "The data frame has data mostly classified as default = 0. Practically 83% of the data falls into the default = 0 category and 17% into the default = 1 category. This could be a complicity for the model since it could be considered that the data is not balanced."
   ]
  },
  {
   "cell_type": "code",
   "execution_count": 7,
   "metadata": {},
   "outputs": [
    {
     "data": {
      "image/png": "[encoded data removed]",
      "text/plain": [
       "<Figure size 1440x432 with 2 Axes>"
      ]
     },
     "metadata": {
      "needs_background": "light"
     },
     "output_type": "display_data"
    }
   ],
   "source": [
    "fig = plt.figure(figsize=(20, 6)) \n",
    "ax0 = fig.add_subplot(1, 2, 1)\n",
    "ax1 = fig.add_subplot(1, 2, 2) \n",
    "# Subplot 1\n",
    "sns.countplot(x='default', hue='SEX',edgecolor=\"black\",data=df, ax =ax0)\n",
    "ax0.set_title('Customer count by gender')\n",
    "# Subplot 2\n",
    "sns.countplot(x='default', hue='MARRIAGE',edgecolor=\"black\",data=df, ax =ax1)\n",
    "ax1.set_title ('Customer count by marital status')\n",
    "\n",
    "plt.show()"
   ]
  },
  {
   "cell_type": "markdown",
   "metadata": {},
   "source": [
    "Let's look at the correlation of the data."
   ]
  },
  {
   "cell_type": "code",
   "execution_count": 8,
   "metadata": {},
   "outputs": [
    {
     "data": {
      "text/plain": [
       "<AxesSubplot:>"
      ]
     },
     "execution_count": 8,
     "metadata": {},
     "output_type": "execute_result"
    },
    {
     "data": {
      "image/png": "[encoded data removed]",
      "text/plain": [
       "<Figure size 1008x864 with 2 Axes>"
      ]
     },
     "metadata": {
      "needs_background": "light"
     },
     "output_type": "display_data"
    }
   ],
   "source": [
    "df_corr = df.corr()\n",
    "fig, ax = plt.subplots(figsize=(14, 12))\n",
    "mask = np.triu(np.ones_like(df_corr, dtype=np.bool))\n",
    "sns.heatmap(df_corr, mask = mask, annot = True, fmt = \".2f\", cmap = sns.diverging_palette(240, 10, n=19),\n",
    "           vmin = -1, vmax = 1, cbar_kws = {\"shrink\": .8})"
   ]
  },
  {
   "cell_type": "markdown",
   "metadata": {},
   "source": [
    "The continuous variables of BILL_AMT(1-6) present a very strong correlation, which could present a slight multicollinearity condition for the model and consumption time. In the variable selection process I might not consider these characteristics for the model, later I can confirm it with the ANOVA filtering method."
   ]
  },
  {
   "cell_type": "code",
   "execution_count": 9,
   "metadata": {},
   "outputs": [],
   "source": [
    "df0 = df[df['default']==0]\n",
    "df1 = df[df['default']==1]"
   ]
  },
  {
   "cell_type": "markdown",
   "metadata": {},
   "source": [
    "I divided the data into two dataframes. df0 corresponds to data with default= 0 and df1 corresponds to data with default=1."
   ]
  },
  {
   "cell_type": "markdown",
   "metadata": {},
   "source": [
    "Let's see a statistical description of the variables."
   ]
  },
  {
   "cell_type": "code",
   "execution_count": 10,
   "metadata": {},
   "outputs": [
    {
     "name": "stdout",
     "output_type": "stream",
     "text": [
      "(4637, 25)\n"
     ]
    },
    {
     "data": {
      "text/html": [
       "<div>\n",
       "<style scoped>\n",
       "    .dataframe tbody tr th:only-of-type {\n",
       "        vertical-align: middle;\n",
       "    }\n",
       "\n",
       "    .dataframe tbody tr th {\n",
       "        vertical-align: top;\n",
       "    }\n",
       "\n",
       "    .dataframe thead th {\n",
       "        text-align: right;\n",
       "    }\n",
       "</style>\n",
       "<table border=\"1\" class=\"dataframe\">\n",
       "  <thead>\n",
       "    <tr style=\"text-align: right;\">\n",
       "      <th></th>\n",
       "      <th>ID</th>\n",
       "      <th>LIMIT_BAL</th>\n",
       "      <th>SEX</th>\n",
       "      <th>EDUCATION</th>\n",
       "      <th>MARRIAGE</th>\n",
       "      <th>AGE</th>\n",
       "      <th>PAY_0</th>\n",
       "      <th>PAY_2</th>\n",
       "      <th>PAY_3</th>\n",
       "      <th>PAY_4</th>\n",
       "      <th>...</th>\n",
       "      <th>BILL_AMT4</th>\n",
       "      <th>BILL_AMT5</th>\n",
       "      <th>BILL_AMT6</th>\n",
       "      <th>PAY_AMT1</th>\n",
       "      <th>PAY_AMT2</th>\n",
       "      <th>PAY_AMT3</th>\n",
       "      <th>PAY_AMT4</th>\n",
       "      <th>PAY_AMT5</th>\n",
       "      <th>PAY_AMT6</th>\n",
       "      <th>default</th>\n",
       "    </tr>\n",
       "  </thead>\n",
       "  <tbody>\n",
       "    <tr>\n",
       "      <th>count</th>\n",
       "      <td>4637.000000</td>\n",
       "      <td>4637.000000</td>\n",
       "      <td>4637.000000</td>\n",
       "      <td>4637.000000</td>\n",
       "      <td>4637.000000</td>\n",
       "      <td>4637.000000</td>\n",
       "      <td>4637.000000</td>\n",
       "      <td>4637.000000</td>\n",
       "      <td>4637.000000</td>\n",
       "      <td>4637.000000</td>\n",
       "      <td>...</td>\n",
       "      <td>4637.000000</td>\n",
       "      <td>4637.000000</td>\n",
       "      <td>4637.000000</td>\n",
       "      <td>4637.000000</td>\n",
       "      <td>4637.000000</td>\n",
       "      <td>4637.000000</td>\n",
       "      <td>4637.000000</td>\n",
       "      <td>4637.000000</td>\n",
       "      <td>4637.000000</td>\n",
       "      <td>4637.0</td>\n",
       "    </tr>\n",
       "    <tr>\n",
       "      <th>mean</th>\n",
       "      <td>19203.921285</td>\n",
       "      <td>127068.725469</td>\n",
       "      <td>1.573862</td>\n",
       "      <td>1.917619</td>\n",
       "      <td>1.521458</td>\n",
       "      <td>35.826828</td>\n",
       "      <td>0.681691</td>\n",
       "      <td>0.498598</td>\n",
       "      <td>0.374164</td>\n",
       "      <td>0.294156</td>\n",
       "      <td>...</td>\n",
       "      <td>42948.854863</td>\n",
       "      <td>39901.324132</td>\n",
       "      <td>38703.767953</td>\n",
       "      <td>3385.896053</td>\n",
       "      <td>3425.367048</td>\n",
       "      <td>3521.899720</td>\n",
       "      <td>3192.415786</td>\n",
       "      <td>3015.160233</td>\n",
       "      <td>3443.257494</td>\n",
       "      <td>1.0</td>\n",
       "    </tr>\n",
       "    <tr>\n",
       "      <th>std</th>\n",
       "      <td>6094.025384</td>\n",
       "      <td>113817.905672</td>\n",
       "      <td>0.494568</td>\n",
       "      <td>0.731772</td>\n",
       "      <td>0.526091</td>\n",
       "      <td>9.607010</td>\n",
       "      <td>1.385723</td>\n",
       "      <td>1.490207</td>\n",
       "      <td>1.474241</td>\n",
       "      <td>1.521827</td>\n",
       "      <td>...</td>\n",
       "      <td>65651.134909</td>\n",
       "      <td>62491.183999</td>\n",
       "      <td>60408.243983</td>\n",
       "      <td>9362.508055</td>\n",
       "      <td>11636.228937</td>\n",
       "      <td>13883.910561</td>\n",
       "      <td>11963.880071</td>\n",
       "      <td>10643.971671</td>\n",
       "      <td>13054.567795</td>\n",
       "      <td>0.0</td>\n",
       "    </tr>\n",
       "    <tr>\n",
       "      <th>min</th>\n",
       "      <td>8920.000000</td>\n",
       "      <td>10000.000000</td>\n",
       "      <td>1.000000</td>\n",
       "      <td>1.000000</td>\n",
       "      <td>0.000000</td>\n",
       "      <td>21.000000</td>\n",
       "      <td>-2.000000</td>\n",
       "      <td>-2.000000</td>\n",
       "      <td>-2.000000</td>\n",
       "      <td>-2.000000</td>\n",
       "      <td>...</td>\n",
       "      <td>-65167.000000</td>\n",
       "      <td>-53007.000000</td>\n",
       "      <td>-94625.000000</td>\n",
       "      <td>0.000000</td>\n",
       "      <td>0.000000</td>\n",
       "      <td>0.000000</td>\n",
       "      <td>0.000000</td>\n",
       "      <td>0.000000</td>\n",
       "      <td>0.000000</td>\n",
       "      <td>1.0</td>\n",
       "    </tr>\n",
       "    <tr>\n",
       "      <th>25%</th>\n",
       "      <td>14063.000000</td>\n",
       "      <td>50000.000000</td>\n",
       "      <td>1.000000</td>\n",
       "      <td>1.000000</td>\n",
       "      <td>1.000000</td>\n",
       "      <td>28.000000</td>\n",
       "      <td>0.000000</td>\n",
       "      <td>0.000000</td>\n",
       "      <td>0.000000</td>\n",
       "      <td>-1.000000</td>\n",
       "      <td>...</td>\n",
       "      <td>2393.000000</td>\n",
       "      <td>1745.000000</td>\n",
       "      <td>1324.000000</td>\n",
       "      <td>0.000000</td>\n",
       "      <td>0.000000</td>\n",
       "      <td>0.000000</td>\n",
       "      <td>0.000000</td>\n",
       "      <td>0.000000</td>\n",
       "      <td>0.000000</td>\n",
       "      <td>1.0</td>\n",
       "    </tr>\n",
       "    <tr>\n",
       "      <th>50%</th>\n",
       "      <td>18731.000000</td>\n",
       "      <td>90000.000000</td>\n",
       "      <td>2.000000</td>\n",
       "      <td>2.000000</td>\n",
       "      <td>2.000000</td>\n",
       "      <td>34.000000</td>\n",
       "      <td>1.000000</td>\n",
       "      <td>0.000000</td>\n",
       "      <td>0.000000</td>\n",
       "      <td>0.000000</td>\n",
       "      <td>...</td>\n",
       "      <td>19431.000000</td>\n",
       "      <td>18721.000000</td>\n",
       "      <td>18151.000000</td>\n",
       "      <td>1600.000000</td>\n",
       "      <td>1600.000000</td>\n",
       "      <td>1331.000000</td>\n",
       "      <td>1000.000000</td>\n",
       "      <td>1000.000000</td>\n",
       "      <td>1000.000000</td>\n",
       "      <td>1.0</td>\n",
       "    </tr>\n",
       "    <tr>\n",
       "      <th>75%</th>\n",
       "      <td>24526.000000</td>\n",
       "      <td>190000.000000</td>\n",
       "      <td>2.000000</td>\n",
       "      <td>2.000000</td>\n",
       "      <td>2.000000</td>\n",
       "      <td>42.000000</td>\n",
       "      <td>2.000000</td>\n",
       "      <td>2.000000</td>\n",
       "      <td>2.000000</td>\n",
       "      <td>2.000000</td>\n",
       "      <td>...</td>\n",
       "      <td>51060.000000</td>\n",
       "      <td>47891.000000</td>\n",
       "      <td>47519.000000</td>\n",
       "      <td>3500.000000</td>\n",
       "      <td>3400.000000</td>\n",
       "      <td>3000.000000</td>\n",
       "      <td>2900.000000</td>\n",
       "      <td>3000.000000</td>\n",
       "      <td>3000.000000</td>\n",
       "      <td>1.0</td>\n",
       "    </tr>\n",
       "    <tr>\n",
       "      <th>max</th>\n",
       "      <td>30000.000000</td>\n",
       "      <td>740000.000000</td>\n",
       "      <td>2.000000</td>\n",
       "      <td>6.000000</td>\n",
       "      <td>3.000000</td>\n",
       "      <td>75.000000</td>\n",
       "      <td>8.000000</td>\n",
       "      <td>7.000000</td>\n",
       "      <td>8.000000</td>\n",
       "      <td>7.000000</td>\n",
       "      <td>...</td>\n",
       "      <td>548020.000000</td>\n",
       "      <td>547880.000000</td>\n",
       "      <td>514975.000000</td>\n",
       "      <td>244500.000000</td>\n",
       "      <td>358689.000000</td>\n",
       "      <td>508229.000000</td>\n",
       "      <td>432130.000000</td>\n",
       "      <td>330982.000000</td>\n",
       "      <td>287982.000000</td>\n",
       "      <td>1.0</td>\n",
       "    </tr>\n",
       "  </tbody>\n",
       "</table>\n",
       "<p>8 rows × 25 columns</p>\n",
       "</div>"
      ],
      "text/plain": [
       "                 ID      LIMIT_BAL          SEX    EDUCATION     MARRIAGE  \\\n",
       "count   4637.000000    4637.000000  4637.000000  4637.000000  4637.000000   \n",
       "mean   19203.921285  127068.725469     1.573862     1.917619     1.521458   \n",
       "std     6094.025384  113817.905672     0.494568     0.731772     0.526091   \n",
       "min     8920.000000   10000.000000     1.000000     1.000000     0.000000   \n",
       "25%    14063.000000   50000.000000     1.000000     1.000000     1.000000   \n",
       "50%    18731.000000   90000.000000     2.000000     2.000000     2.000000   \n",
       "75%    24526.000000  190000.000000     2.000000     2.000000     2.000000   \n",
       "max    30000.000000  740000.000000     2.000000     6.000000     3.000000   \n",
       "\n",
       "               AGE        PAY_0        PAY_2        PAY_3        PAY_4  ...  \\\n",
       "count  4637.000000  4637.000000  4637.000000  4637.000000  4637.000000  ...   \n",
       "mean     35.826828     0.681691     0.498598     0.374164     0.294156  ...   \n",
       "std       9.607010     1.385723     1.490207     1.474241     1.521827  ...   \n",
       "min      21.000000    -2.000000    -2.000000    -2.000000    -2.000000  ...   \n",
       "25%      28.000000     0.000000     0.000000     0.000000    -1.000000  ...   \n",
       "50%      34.000000     1.000000     0.000000     0.000000     0.000000  ...   \n",
       "75%      42.000000     2.000000     2.000000     2.000000     2.000000  ...   \n",
       "max      75.000000     8.000000     7.000000     8.000000     7.000000  ...   \n",
       "\n",
       "           BILL_AMT4      BILL_AMT5      BILL_AMT6       PAY_AMT1  \\\n",
       "count    4637.000000    4637.000000    4637.000000    4637.000000   \n",
       "mean    42948.854863   39901.324132   38703.767953    3385.896053   \n",
       "std     65651.134909   62491.183999   60408.243983    9362.508055   \n",
       "min    -65167.000000  -53007.000000  -94625.000000       0.000000   \n",
       "25%      2393.000000    1745.000000    1324.000000       0.000000   \n",
       "50%     19431.000000   18721.000000   18151.000000    1600.000000   \n",
       "75%     51060.000000   47891.000000   47519.000000    3500.000000   \n",
       "max    548020.000000  547880.000000  514975.000000  244500.000000   \n",
       "\n",
       "            PAY_AMT2       PAY_AMT3       PAY_AMT4       PAY_AMT5  \\\n",
       "count    4637.000000    4637.000000    4637.000000    4637.000000   \n",
       "mean     3425.367048    3521.899720    3192.415786    3015.160233   \n",
       "std     11636.228937   13883.910561   11963.880071   10643.971671   \n",
       "min         0.000000       0.000000       0.000000       0.000000   \n",
       "25%         0.000000       0.000000       0.000000       0.000000   \n",
       "50%      1600.000000    1331.000000    1000.000000    1000.000000   \n",
       "75%      3400.000000    3000.000000    2900.000000    3000.000000   \n",
       "max    358689.000000  508229.000000  432130.000000  330982.000000   \n",
       "\n",
       "            PAY_AMT6  default  \n",
       "count    4637.000000   4637.0  \n",
       "mean     3443.257494      1.0  \n",
       "std     13054.567795      0.0  \n",
       "min         0.000000      1.0  \n",
       "25%         0.000000      1.0  \n",
       "50%      1000.000000      1.0  \n",
       "75%      3000.000000      1.0  \n",
       "max    287982.000000      1.0  \n",
       "\n",
       "[8 rows x 25 columns]"
      ]
     },
     "execution_count": 10,
     "metadata": {},
     "output_type": "execute_result"
    }
   ],
   "source": [
    "print(df1.shape)\n",
    "df1.describe()"
   ]
  },
  {
   "cell_type": "code",
   "execution_count": 11,
   "metadata": {},
   "outputs": [
    {
     "name": "stdout",
     "output_type": "stream",
     "text": [
      "(23362, 25)\n"
     ]
    },
    {
     "data": {
      "text/html": [
       "<div>\n",
       "<style scoped>\n",
       "    .dataframe tbody tr th:only-of-type {\n",
       "        vertical-align: middle;\n",
       "    }\n",
       "\n",
       "    .dataframe tbody tr th {\n",
       "        vertical-align: top;\n",
       "    }\n",
       "\n",
       "    .dataframe thead th {\n",
       "        text-align: right;\n",
       "    }\n",
       "</style>\n",
       "<table border=\"1\" class=\"dataframe\">\n",
       "  <thead>\n",
       "    <tr style=\"text-align: right;\">\n",
       "      <th></th>\n",
       "      <th>ID</th>\n",
       "      <th>LIMIT_BAL</th>\n",
       "      <th>SEX</th>\n",
       "      <th>EDUCATION</th>\n",
       "      <th>MARRIAGE</th>\n",
       "      <th>AGE</th>\n",
       "      <th>PAY_0</th>\n",
       "      <th>PAY_2</th>\n",
       "      <th>PAY_3</th>\n",
       "      <th>PAY_4</th>\n",
       "      <th>...</th>\n",
       "      <th>BILL_AMT4</th>\n",
       "      <th>BILL_AMT5</th>\n",
       "      <th>BILL_AMT6</th>\n",
       "      <th>PAY_AMT1</th>\n",
       "      <th>PAY_AMT2</th>\n",
       "      <th>PAY_AMT3</th>\n",
       "      <th>PAY_AMT4</th>\n",
       "      <th>PAY_AMT5</th>\n",
       "      <th>PAY_AMT6</th>\n",
       "      <th>default</th>\n",
       "    </tr>\n",
       "  </thead>\n",
       "  <tbody>\n",
       "    <tr>\n",
       "      <th>count</th>\n",
       "      <td>23362.000000</td>\n",
       "      <td>23362.000000</td>\n",
       "      <td>23362.000000</td>\n",
       "      <td>23362.000000</td>\n",
       "      <td>23362.000000</td>\n",
       "      <td>23362.000000</td>\n",
       "      <td>23362.000000</td>\n",
       "      <td>23362.000000</td>\n",
       "      <td>23362.000000</td>\n",
       "      <td>23362.000000</td>\n",
       "      <td>...</td>\n",
       "      <td>23362.000000</td>\n",
       "      <td>23362.000000</td>\n",
       "      <td>23362.000000</td>\n",
       "      <td>23362.000000</td>\n",
       "      <td>2.336200e+04</td>\n",
       "      <td>23362.000000</td>\n",
       "      <td>23362.000000</td>\n",
       "      <td>23362.000000</td>\n",
       "      <td>23362.000000</td>\n",
       "      <td>23362.0</td>\n",
       "    </tr>\n",
       "    <tr>\n",
       "      <th>mean</th>\n",
       "      <td>15063.615701</td>\n",
       "      <td>178099.135348</td>\n",
       "      <td>1.614203</td>\n",
       "      <td>1.841238</td>\n",
       "      <td>1.558642</td>\n",
       "      <td>35.416788</td>\n",
       "      <td>-0.211198</td>\n",
       "      <td>-0.301901</td>\n",
       "      <td>-0.316240</td>\n",
       "      <td>-0.355620</td>\n",
       "      <td>...</td>\n",
       "      <td>43610.747453</td>\n",
       "      <td>40532.355877</td>\n",
       "      <td>39044.927061</td>\n",
       "      <td>6307.434851</td>\n",
       "      <td>6.640027e+03</td>\n",
       "      <td>5753.390078</td>\n",
       "      <td>5300.847145</td>\n",
       "      <td>5248.455569</td>\n",
       "      <td>5719.818594</td>\n",
       "      <td>0.0</td>\n",
       "    </tr>\n",
       "    <tr>\n",
       "      <th>std</th>\n",
       "      <td>8683.824834</td>\n",
       "      <td>131633.580228</td>\n",
       "      <td>0.486794</td>\n",
       "      <td>0.806743</td>\n",
       "      <td>0.520796</td>\n",
       "      <td>9.077577</td>\n",
       "      <td>0.952490</td>\n",
       "      <td>1.035223</td>\n",
       "      <td>1.048411</td>\n",
       "      <td>1.013194</td>\n",
       "      <td>...</td>\n",
       "      <td>64326.495407</td>\n",
       "      <td>60619.391368</td>\n",
       "      <td>59548.825568</td>\n",
       "      <td>18015.250656</td>\n",
       "      <td>2.530319e+04</td>\n",
       "      <td>18685.043022</td>\n",
       "      <td>16690.451662</td>\n",
       "      <td>16072.319052</td>\n",
       "      <td>18793.692291</td>\n",
       "      <td>0.0</td>\n",
       "    </tr>\n",
       "    <tr>\n",
       "      <th>min</th>\n",
       "      <td>3.000000</td>\n",
       "      <td>10000.000000</td>\n",
       "      <td>1.000000</td>\n",
       "      <td>0.000000</td>\n",
       "      <td>0.000000</td>\n",
       "      <td>21.000000</td>\n",
       "      <td>-2.000000</td>\n",
       "      <td>-2.000000</td>\n",
       "      <td>-2.000000</td>\n",
       "      <td>-2.000000</td>\n",
       "      <td>...</td>\n",
       "      <td>-170000.000000</td>\n",
       "      <td>-81334.000000</td>\n",
       "      <td>-209051.000000</td>\n",
       "      <td>0.000000</td>\n",
       "      <td>0.000000e+00</td>\n",
       "      <td>0.000000</td>\n",
       "      <td>0.000000</td>\n",
       "      <td>0.000000</td>\n",
       "      <td>0.000000</td>\n",
       "      <td>0.0</td>\n",
       "    </tr>\n",
       "    <tr>\n",
       "      <th>25%</th>\n",
       "      <td>7526.250000</td>\n",
       "      <td>70000.000000</td>\n",
       "      <td>1.000000</td>\n",
       "      <td>1.000000</td>\n",
       "      <td>1.000000</td>\n",
       "      <td>28.000000</td>\n",
       "      <td>-1.000000</td>\n",
       "      <td>-1.000000</td>\n",
       "      <td>-1.000000</td>\n",
       "      <td>-1.000000</td>\n",
       "      <td>...</td>\n",
       "      <td>2360.000000</td>\n",
       "      <td>1823.000000</td>\n",
       "      <td>1266.250000</td>\n",
       "      <td>1163.250000</td>\n",
       "      <td>1.005000e+03</td>\n",
       "      <td>600.000000</td>\n",
       "      <td>390.000000</td>\n",
       "      <td>369.250000</td>\n",
       "      <td>300.000000</td>\n",
       "      <td>0.0</td>\n",
       "    </tr>\n",
       "    <tr>\n",
       "      <th>50%</th>\n",
       "      <td>15072.000000</td>\n",
       "      <td>150000.000000</td>\n",
       "      <td>2.000000</td>\n",
       "      <td>2.000000</td>\n",
       "      <td>2.000000</td>\n",
       "      <td>34.000000</td>\n",
       "      <td>0.000000</td>\n",
       "      <td>0.000000</td>\n",
       "      <td>0.000000</td>\n",
       "      <td>0.000000</td>\n",
       "      <td>...</td>\n",
       "      <td>19000.000000</td>\n",
       "      <td>17998.000000</td>\n",
       "      <td>16683.000000</td>\n",
       "      <td>2459.500000</td>\n",
       "      <td>2.247000e+03</td>\n",
       "      <td>2000.000000</td>\n",
       "      <td>1734.000000</td>\n",
       "      <td>1765.000000</td>\n",
       "      <td>1706.500000</td>\n",
       "      <td>0.0</td>\n",
       "    </tr>\n",
       "    <tr>\n",
       "      <th>75%</th>\n",
       "      <td>22635.750000</td>\n",
       "      <td>250000.000000</td>\n",
       "      <td>2.000000</td>\n",
       "      <td>2.000000</td>\n",
       "      <td>2.000000</td>\n",
       "      <td>41.000000</td>\n",
       "      <td>0.000000</td>\n",
       "      <td>0.000000</td>\n",
       "      <td>0.000000</td>\n",
       "      <td>0.000000</td>\n",
       "      <td>...</td>\n",
       "      <td>55976.500000</td>\n",
       "      <td>51137.750000</td>\n",
       "      <td>49845.500000</td>\n",
       "      <td>5606.000000</td>\n",
       "      <td>5.310750e+03</td>\n",
       "      <td>5000.000000</td>\n",
       "      <td>4602.000000</td>\n",
       "      <td>4600.000000</td>\n",
       "      <td>4545.000000</td>\n",
       "      <td>0.0</td>\n",
       "    </tr>\n",
       "    <tr>\n",
       "      <th>max</th>\n",
       "      <td>29994.000000</td>\n",
       "      <td>1000000.000000</td>\n",
       "      <td>2.000000</td>\n",
       "      <td>6.000000</td>\n",
       "      <td>3.000000</td>\n",
       "      <td>79.000000</td>\n",
       "      <td>8.000000</td>\n",
       "      <td>8.000000</td>\n",
       "      <td>8.000000</td>\n",
       "      <td>8.000000</td>\n",
       "      <td>...</td>\n",
       "      <td>891586.000000</td>\n",
       "      <td>927171.000000</td>\n",
       "      <td>961664.000000</td>\n",
       "      <td>873552.000000</td>\n",
       "      <td>1.684259e+06</td>\n",
       "      <td>896040.000000</td>\n",
       "      <td>621000.000000</td>\n",
       "      <td>426529.000000</td>\n",
       "      <td>528666.000000</td>\n",
       "      <td>0.0</td>\n",
       "    </tr>\n",
       "  </tbody>\n",
       "</table>\n",
       "<p>8 rows × 25 columns</p>\n",
       "</div>"
      ],
      "text/plain": [
       "                 ID       LIMIT_BAL           SEX     EDUCATION      MARRIAGE  \\\n",
       "count  23362.000000    23362.000000  23362.000000  23362.000000  23362.000000   \n",
       "mean   15063.615701   178099.135348      1.614203      1.841238      1.558642   \n",
       "std     8683.824834   131633.580228      0.486794      0.806743      0.520796   \n",
       "min        3.000000    10000.000000      1.000000      0.000000      0.000000   \n",
       "25%     7526.250000    70000.000000      1.000000      1.000000      1.000000   \n",
       "50%    15072.000000   150000.000000      2.000000      2.000000      2.000000   \n",
       "75%    22635.750000   250000.000000      2.000000      2.000000      2.000000   \n",
       "max    29994.000000  1000000.000000      2.000000      6.000000      3.000000   \n",
       "\n",
       "                AGE         PAY_0         PAY_2         PAY_3         PAY_4  \\\n",
       "count  23362.000000  23362.000000  23362.000000  23362.000000  23362.000000   \n",
       "mean      35.416788     -0.211198     -0.301901     -0.316240     -0.355620   \n",
       "std        9.077577      0.952490      1.035223      1.048411      1.013194   \n",
       "min       21.000000     -2.000000     -2.000000     -2.000000     -2.000000   \n",
       "25%       28.000000     -1.000000     -1.000000     -1.000000     -1.000000   \n",
       "50%       34.000000      0.000000      0.000000      0.000000      0.000000   \n",
       "75%       41.000000      0.000000      0.000000      0.000000      0.000000   \n",
       "max       79.000000      8.000000      8.000000      8.000000      8.000000   \n",
       "\n",
       "       ...      BILL_AMT4      BILL_AMT5      BILL_AMT6       PAY_AMT1  \\\n",
       "count  ...   23362.000000   23362.000000   23362.000000   23362.000000   \n",
       "mean   ...   43610.747453   40532.355877   39044.927061    6307.434851   \n",
       "std    ...   64326.495407   60619.391368   59548.825568   18015.250656   \n",
       "min    ... -170000.000000  -81334.000000 -209051.000000       0.000000   \n",
       "25%    ...    2360.000000    1823.000000    1266.250000    1163.250000   \n",
       "50%    ...   19000.000000   17998.000000   16683.000000    2459.500000   \n",
       "75%    ...   55976.500000   51137.750000   49845.500000    5606.000000   \n",
       "max    ...  891586.000000  927171.000000  961664.000000  873552.000000   \n",
       "\n",
       "           PAY_AMT2       PAY_AMT3       PAY_AMT4       PAY_AMT5  \\\n",
       "count  2.336200e+04   23362.000000   23362.000000   23362.000000   \n",
       "mean   6.640027e+03    5753.390078    5300.847145    5248.455569   \n",
       "std    2.530319e+04   18685.043022   16690.451662   16072.319052   \n",
       "min    0.000000e+00       0.000000       0.000000       0.000000   \n",
       "25%    1.005000e+03     600.000000     390.000000     369.250000   \n",
       "50%    2.247000e+03    2000.000000    1734.000000    1765.000000   \n",
       "75%    5.310750e+03    5000.000000    4602.000000    4600.000000   \n",
       "max    1.684259e+06  896040.000000  621000.000000  426529.000000   \n",
       "\n",
       "            PAY_AMT6  default  \n",
       "count   23362.000000  23362.0  \n",
       "mean     5719.818594      0.0  \n",
       "std     18793.692291      0.0  \n",
       "min         0.000000      0.0  \n",
       "25%       300.000000      0.0  \n",
       "50%      1706.500000      0.0  \n",
       "75%      4545.000000      0.0  \n",
       "max    528666.000000      0.0  \n",
       "\n",
       "[8 rows x 25 columns]"
      ]
     },
     "execution_count": 11,
     "metadata": {},
     "output_type": "execute_result"
    }
   ],
   "source": [
    "print(df0.shape)\n",
    "df0.describe()"
   ]
  },
  {
   "cell_type": "code",
   "execution_count": 12,
   "metadata": {},
   "outputs": [
    {
     "data": {
      "image/png": "[encoded data removed]",
      "text/plain": [
       "<Figure size 1440x432 with 2 Axes>"
      ]
     },
     "metadata": {
      "needs_background": "light"
     },
     "output_type": "display_data"
    }
   ],
   "source": [
    "fig = plt.figure(figsize=(20, 6)) \n",
    "ax0 = fig.add_subplot(1, 2, 1)\n",
    "ax1 = fig.add_subplot(1, 2, 2) \n",
    "# Subplot 1\n",
    "sns.boxplot(data=df0[['PAY_0','PAY_2','PAY_3','PAY_4','PAY_5','PAY_6']], palette='Set1', ax =ax0)\n",
    "ax0.set_title('Detalles de pago en default = 0')\n",
    "# Subplot 2\n",
    "sns.boxplot(data=df1[['PAY_0','PAY_2','PAY_3','PAY_4','PAY_5','PAY_6']], palette='Set1',ax=ax1)\n",
    "ax1.set_title ('Detalles de pago en default = 1')\n",
    "\n",
    "plt.show()"
   ]
  },
  {
   "cell_type": "markdown",
   "metadata": {},
   "source": [
    "For the payment details of the PAY_(0 to 6) columns a large difference can be seen, which can help the classification model. The average of the payment details when default = 0 is below 0, while when it falls in default = 1 it can be seen that the first payments of PAY_(6 to 4) has a distribution between less and greater than 0, and when they pass from PAY_(3 to 0) payments are above 0. \n",
    "Similarly, in the descriptive table of the dataframe df1 it can be seen that for the columns PAY_AMT, assuming that it corresponds to the payment amount, for 25% of the people who defaulted a value of 0 is shown."
   ]
  },
  {
   "cell_type": "markdown",
   "metadata": {},
   "source": [
    "## Methodology Selection of Variables\n"
   ]
  },
  {
   "cell_type": "markdown",
   "metadata": {},
   "source": [
    "To confirm which variables are most related to the default decision, I will use the Analysis of Variance (ANOVA) method as mentioned above. With sklearn's f_classif I can do this. What I am looking for is to confirm which variables have a small p-value. The P-value tells me how statistically significant our value is. \n",
    "\n",
    "If the default variable is strongly correlated with the variables we are analyzing, ANOVA is expected to return a small p-value. For this case I will consider variables with p less than 0.035."
   ]
  },
  {
   "cell_type": "code",
   "execution_count": 13,
   "metadata": {},
   "outputs": [],
   "source": [
    "Xdata = data.drop('default', axis=1)\n",
    "Ydata = data['default']"
   ]
  },
  {
   "cell_type": "code",
   "execution_count": 14,
   "metadata": {},
   "outputs": [],
   "source": [
    "from sklearn.feature_selection import f_classif"
   ]
  },
  {
   "cell_type": "code",
   "execution_count": 15,
   "metadata": {},
   "outputs": [],
   "source": [
    "sel=f_classif(Xdata, Ydata)\n",
    "p_values = pd.Series(sel[1])\n",
    "p_values.index = Xdata.columns\n",
    "p_values.sort_values(ascending=True, inplace=True)"
   ]
  },
  {
   "cell_type": "code",
   "execution_count": 16,
   "metadata": {},
   "outputs": [
    {
     "data": {
      "text/plain": [
       "<AxesSubplot:>"
      ]
     },
     "execution_count": 16,
     "metadata": {},
     "output_type": "execute_result"
    },
    {
     "data": {
      "image/png": "[encoded data removed]",
      "text/plain": [
       "<Figure size 1152x360 with 1 Axes>"
      ]
     },
     "metadata": {
      "needs_background": "light"
     },
     "output_type": "display_data"
    }
   ],
   "source": [
    "p_values.plot.bar(figsize=(16,5))"
   ]
  },
  {
   "cell_type": "code",
   "execution_count": 17,
   "metadata": {},
   "outputs": [
    {
     "data": {
      "text/plain": [
       "Index(['PAY_2', 'PAY_0', 'PAY_3', 'PAY_4', 'PAY_5', 'ID', 'PAY_6', 'LIMIT_BAL',\n",
       "       'PAY_AMT1', 'PAY_AMT5', 'PAY_AMT2', 'PAY_AMT4', 'PAY_AMT6', 'PAY_AMT3',\n",
       "       'EDUCATION', 'SEX', 'MARRIAGE', 'BILL_AMT1', 'AGE'],\n",
       "      dtype='object')"
      ]
     },
     "execution_count": 17,
     "metadata": {},
     "output_type": "execute_result"
    }
   ],
   "source": [
    "p_values=p_values[p_values<0.035]\n",
    "p_values.index"
   ]
  },
  {
   "cell_type": "markdown",
   "metadata": {},
   "source": [
    "In fact, this confirms the strong correlation with the values of BILL_AMT(1-6). For this case the columns I will consider are those indicated in the variable p_values.index. BILL_AMT1 is important because it is the variable that will give us the estimation of the loss in money in case the client defaults."
   ]
  },
  {
   "cell_type": "code",
   "execution_count": 18,
   "metadata": {},
   "outputs": [],
   "source": [
    "p_values.drop(index='ID')\n",
    "features = p_values.index"
   ]
  },
  {
   "cell_type": "markdown",
   "metadata": {},
   "source": [
    "## Choice of modeling algorithm"
   ]
  },
  {
   "cell_type": "markdown",
   "metadata": {},
   "source": [
    "Previously I described that a data imbalance can be observed with respect to the classification of defaults. However, I will analyze some models to see their responses to this data characteristic. First, I will define some necessary Sklearn libraries."
   ]
  },
  {
   "cell_type": "code",
   "execution_count": 19,
   "metadata": {},
   "outputs": [],
   "source": [
    "from sklearn.model_selection import cross_val_score\n",
    "from sklearn.linear_model import LogisticRegression\n",
    "from sklearn.tree import DecisionTreeClassifier\n",
    "from sklearn.svm import SVC\n",
    "from sklearn.ensemble import RandomForestClassifier\n",
    "from sklearn.metrics import confusion_matrix\n",
    "from sklearn.metrics import classification_report\n",
    "from sklearn.metrics import roc_auc_score\n",
    "from sklearn.metrics import accuracy_score\n",
    "import time"
   ]
  },
  {
   "cell_type": "markdown",
   "metadata": {},
   "source": [
    "#### Dividiendo el dataset en Train/Test "
   ]
  },
  {
   "cell_type": "code",
   "execution_count": 20,
   "metadata": {},
   "outputs": [],
   "source": [
    "from sklearn.model_selection import train_test_split\n",
    "from sklearn import preprocessing"
   ]
  },
  {
   "cell_type": "code",
   "execution_count": 21,
   "metadata": {},
   "outputs": [
    {
     "name": "stdout",
     "output_type": "stream",
     "text": [
      "set de train: (15399, 24) (15399,)\n",
      "set de test: (12600, 24) (12600,)\n"
     ]
    }
   ],
   "source": [
    "X_1,x_2,y_1,y_2 = train_test_split(Xdata,Ydata,test_size=0.45,random_state=4,stratify = Ydata)\n",
    "print ('set de train:', X_1.shape,  y_1.shape)\n",
    "print ('set de test:', x_2.shape,  y_2.shape)"
   ]
  },
  {
   "cell_type": "markdown",
   "metadata": {},
   "source": [
    "#### Definition of models"
   ]
  },
  {
   "cell_type": "markdown",
   "metadata": {},
   "source": [
    "I will create a list of models to use, in this case I will try common binary classification models from sklearn: Logistic Regression, Decision Tree and Random Forest. Then I will define a function to see the most important metrics of each algorithm."
   ]
  },
  {
   "cell_type": "code",
   "execution_count": 22,
   "metadata": {},
   "outputs": [],
   "source": [
    "models = [LogisticRegression(C=0.01, solver='liblinear'),\n",
    "          DecisionTreeClassifier(),\n",
    "          RandomForestClassifier(n_estimators =100),\n",
    "          ]\n",
    "\n",
    "def run_models (xtrain,ytrain,xtest,ytest,X,Y,models,features):\n",
    "    for model in models:\n",
    "        t0 = time.time()\n",
    "        if model ==LogisticRegression(C=0.01, solver='liblinear'):\n",
    "            xtrain = preprocessing.StandardScaler().fit(xtrain).transform(xtrain)\n",
    "            xtest = preprocessing.StandardScaler().fit(xtest).transform(xtest)\n",
    "        model.fit(xtrain[features],ytrain)\n",
    "        y_pred = model.predict(xtest[features])\n",
    "        proba = model.predict_proba(xtest[features])\n",
    "        roc_score = roc_auc_score(ytest, proba[:,1])\n",
    "        cv_score = cross_val_score(model,X[features],Y,cv=5).mean()\n",
    "        score = accuracy_score(ytest,y_pred)\n",
    "        bin_clf_rep = classification_report(ytest,y_pred, zero_division=1)\n",
    "        name = str(model)\n",
    "        print(name[0:name.find(\"(\")])\n",
    "        print(\"Accuracy :\", score)\n",
    "        print(\"CV Score :\", cv_score)\n",
    "        print(\"AUC Score : \", roc_score)\n",
    "        print(bin_clf_rep)\n",
    "        print(confusion_matrix(ytest,y_pred,labels=[1,0]))\n",
    "        print(\"Time Taken :\", time.time()-t0, \"seconds\")\n",
    "        print(\"------------------------------------------------------------\")"
   ]
  },
  {
   "cell_type": "markdown",
   "metadata": {},
   "source": [
    "#### Testing of algorithms"
   ]
  },
  {
   "cell_type": "code",
   "execution_count": 23,
   "metadata": {},
   "outputs": [
    {
     "name": "stdout",
     "output_type": "stream",
     "text": [
      "LogisticRegression\n",
      "Accuracy : 0.8343650793650793\n",
      "CV Score : 0.8249209297578648\n",
      "AUC Score :  0.6586674740576057\n",
      "              precision    recall  f1-score   support\n",
      "\n",
      "           0       0.83      1.00      0.91     10513\n",
      "           1       1.00      0.00      0.00      2087\n",
      "\n",
      "    accuracy                           0.83     12600\n",
      "   macro avg       0.92      0.50      0.45     12600\n",
      "weighted avg       0.86      0.83      0.76     12600\n",
      "\n",
      "[[    0  2087]\n",
      " [    0 10513]]\n",
      "Time Taken : 1.6080572605133057 seconds\n",
      "------------------------------------------------------------\n",
      "DecisionTreeClassifier\n",
      "Accuracy : 0.7956349206349206\n",
      "CV Score : 0.3317202689255735\n",
      "AUC Score :  0.6463426917849355\n",
      "              precision    recall  f1-score   support\n",
      "\n",
      "           0       0.88      0.87      0.88     10513\n",
      "           1       0.39      0.42      0.41      2087\n",
      "\n",
      "    accuracy                           0.80     12600\n",
      "   macro avg       0.64      0.65      0.64     12600\n",
      "weighted avg       0.80      0.80      0.80     12600\n",
      "\n",
      "[[ 883 1204]\n",
      " [1371 9142]]\n",
      "Time Taken : 1.165869951248169 seconds\n",
      "------------------------------------------------------------\n",
      "RandomForestClassifier\n",
      "Accuracy : 0.8646825396825397\n",
      "CV Score : 0.38550602786211824\n",
      "AUC Score :  0.8384684105028702\n",
      "              precision    recall  f1-score   support\n",
      "\n",
      "           0       0.88      0.96      0.92     10513\n",
      "           1       0.67      0.36      0.47      2087\n",
      "\n",
      "    accuracy                           0.86     12600\n",
      "   macro avg       0.78      0.66      0.70     12600\n",
      "weighted avg       0.85      0.86      0.85     12600\n",
      "\n",
      "[[  753  1334]\n",
      " [  371 10142]]\n",
      "Time Taken : 18.72388458251953 seconds\n",
      "------------------------------------------------------------\n"
     ]
    }
   ],
   "source": [
    "run_models(X_1,y_1,x_2,y_2,Xdata,Ydata,models,features)"
   ]
  },
  {
   "cell_type": "markdown",
   "metadata": {},
   "source": [
    "**As I described in the initial sections. It is a priority to achieve a stronger metric for the default = 1 predictions. In this case all three models show an F1-score for the positive 1's of less than 0.50. This may be due to the data being unbalanced. Therefore, none of the three models is efficient**."
   ]
  },
  {
   "cell_type": "markdown",
   "metadata": {},
   "source": [
    "## Methodology of evaluation"
   ]
  },
  {
   "cell_type": "markdown",
   "metadata": {},
   "source": [
    "### Data balancing"
   ]
  },
  {
   "cell_type": "markdown",
   "metadata": {},
   "source": [
    "Previously it was observed that the majority of the data corresponds to the default = 0 category. I will apply two types of balance (Undersampling and Oversampling) and analyze the behavior of both."
   ]
  },
  {
   "cell_type": "markdown",
   "metadata": {},
   "source": [
    "### Undersampling"
   ]
  },
  {
   "cell_type": "code",
   "execution_count": 24,
   "metadata": {},
   "outputs": [],
   "source": [
    "from sklearn.utils import resample"
   ]
  },
  {
   "cell_type": "code",
   "execution_count": 25,
   "metadata": {},
   "outputs": [
    {
     "data": {
      "text/plain": [
       "1    4637\n",
       "0    4637\n",
       "Name: default, dtype: int64"
      ]
     },
     "execution_count": 25,
     "metadata": {},
     "output_type": "execute_result"
    }
   ],
   "source": [
    "# Decrease of the majority class\n",
    "df_undersampling = resample(df0, \n",
    "                        replace=False,    \n",
    "                        n_samples=4637,    \n",
    "                        random_state=150) \n",
    " \n",
    "df_sub = pd.concat([df_undersampling, df1])\n",
    "df_sub.default.value_counts()"
   ]
  },
  {
   "cell_type": "markdown",
   "metadata": {},
   "source": [
    "With this method, I have reduced the amount of data by equalizing the number of defaults."
   ]
  },
  {
   "cell_type": "code",
   "execution_count": 26,
   "metadata": {},
   "outputs": [],
   "source": [
    "X_sub = df_sub.drop('default',axis=1)\n",
    "Y_sub = df_sub['default']"
   ]
  },
  {
   "cell_type": "code",
   "execution_count": 27,
   "metadata": {},
   "outputs": [],
   "source": [
    "#Splitting of undersampled data\n",
    "X_1_sub,x_2_sub,y_1_sub,y_2_sub = train_test_split(X_sub,Y_sub,test_size=0.30,random_state=4,stratify = Y_sub)"
   ]
  },
  {
   "cell_type": "markdown",
   "metadata": {},
   "source": [
    "#### Algorithm testing: undersampled data"
   ]
  },
  {
   "cell_type": "code",
   "execution_count": 28,
   "metadata": {},
   "outputs": [
    {
     "name": "stdout",
     "output_type": "stream",
     "text": [
      "LogisticRegression\n",
      "Accuracy : 0.6855910887531441\n",
      "CV Score : 0.6345786337982711\n",
      "AUC Score :  0.7535754274192883\n",
      "              precision    recall  f1-score   support\n",
      "\n",
      "           0       0.70      0.64      0.67      1392\n",
      "           1       0.67      0.73      0.70      1391\n",
      "\n",
      "    accuracy                           0.69      2783\n",
      "   macro avg       0.69      0.69      0.68      2783\n",
      "weighted avg       0.69      0.69      0.68      2783\n",
      "\n",
      "[[1016  375]\n",
      " [ 500  892]]\n",
      "Time Taken : 0.41197824478149414 seconds\n",
      "------------------------------------------------------------\n",
      "DecisionTreeClassifier\n",
      "Accuracy : 0.6730147323032698\n",
      "CV Score : 0.404782549277878\n",
      "AUC Score :  0.6730103002057561\n",
      "              precision    recall  f1-score   support\n",
      "\n",
      "           0       0.67      0.69      0.68      1392\n",
      "           1       0.68      0.66      0.67      1391\n",
      "\n",
      "    accuracy                           0.67      2783\n",
      "   macro avg       0.67      0.67      0.67      2783\n",
      "weighted avg       0.67      0.67      0.67      2783\n",
      "\n",
      "[[919 472]\n",
      " [438 954]]\n",
      "Time Taken : 0.365048885345459 seconds\n",
      "------------------------------------------------------------\n",
      "RandomForestClassifier\n",
      "Accuracy : 0.7556593604024434\n",
      "CV Score : 0.5582099169276308\n",
      "AUC Score :  0.8494214655792162\n",
      "              precision    recall  f1-score   support\n",
      "\n",
      "           0       0.75      0.77      0.76      1392\n",
      "           1       0.76      0.74      0.75      1391\n",
      "\n",
      "    accuracy                           0.76      2783\n",
      "   macro avg       0.76      0.76      0.76      2783\n",
      "weighted avg       0.76      0.76      0.76      2783\n",
      "\n",
      "[[1031  360]\n",
      " [ 320 1072]]\n",
      "Time Taken : 6.014864921569824 seconds\n",
      "------------------------------------------------------------\n"
     ]
    }
   ],
   "source": [
    "run_models(X_1_sub,y_1_sub,x_2_sub,y_2_sub,X_sub,Y_sub,models,features)"
   ]
  },
  {
   "cell_type": "markdown",
   "metadata": {},
   "source": [
    "We can see an improvement in the performance of the models. We see that the metrics increased considerably in case the default is equal to 1. The RandomForestClassifier was the one that presented the best results. However, the disadvantage of undersampling is that we are leaving a lot of data out of the model training."
   ]
  },
  {
   "cell_type": "markdown",
   "metadata": {},
   "source": [
    "### Oversampling"
   ]
  },
  {
   "cell_type": "markdown",
   "metadata": {},
   "source": [
    "For oversampling I will use the SMOTE (Synthetic Minority Oversampling TEchnique) method from the imblearn python library. This will help me to create synthetic samples."
   ]
  },
  {
   "cell_type": "code",
   "execution_count": 29,
   "metadata": {},
   "outputs": [
    {
     "name": "stdout",
     "output_type": "stream",
     "text": [
      "Requirement already satisfied: imbalanced-learn in c:\\anaconda\\anaconda3\\lib\\site-packages (0.7.0)\n",
      "Requirement already satisfied: joblib>=0.11 in c:\\anaconda\\anaconda3\\lib\\site-packages (from imbalanced-learn) (0.17.0)\n",
      "Requirement already satisfied: scipy>=0.19.1 in c:\\anaconda\\anaconda3\\lib\\site-packages (from imbalanced-learn) (1.5.2)\n",
      "Requirement already satisfied: scikit-learn>=0.23 in c:\\anaconda\\anaconda3\\lib\\site-packages (from imbalanced-learn) (0.23.2)\n",
      "Requirement already satisfied: numpy>=1.13.3 in c:\\anaconda\\anaconda3\\lib\\site-packages (from imbalanced-learn) (1.19.2)\n",
      "Requirement already satisfied: threadpoolctl>=2.0.0 in c:\\anaconda\\anaconda3\\lib\\site-packages (from scikit-learn>=0.23->imbalanced-learn) (2.1.0)\n"
     ]
    }
   ],
   "source": [
    "!pip install imbalanced-learn\n",
    "from imblearn.over_sampling import SMOTE"
   ]
  },
  {
   "cell_type": "code",
   "execution_count": 30,
   "metadata": {},
   "outputs": [],
   "source": [
    "smote = SMOTE(sampling_strategy='minority')\n",
    "X_sm,y_sm = smote.fit_sample(Xdata,Ydata)"
   ]
  },
  {
   "cell_type": "code",
   "execution_count": 31,
   "metadata": {},
   "outputs": [
    {
     "data": {
      "text/plain": [
       "1    23362\n",
       "0    23362\n",
       "Name: default, dtype: int64"
      ]
     },
     "execution_count": 31,
     "metadata": {},
     "output_type": "execute_result"
    }
   ],
   "source": [
    "y_sm.value_counts()"
   ]
  },
  {
   "cell_type": "markdown",
   "metadata": {},
   "source": [
    "Now the data frame contains the same amount of default data in both cases"
   ]
  },
  {
   "cell_type": "code",
   "execution_count": 32,
   "metadata": {},
   "outputs": [],
   "source": [
    "#Splitting de datos oversampled\n",
    "X_1_ov,x_2_ov,y_1_ov,y_2_ov = train_test_split(X_sm,y_sm,test_size=0.45,random_state=4,stratify = y_sm)"
   ]
  },
  {
   "cell_type": "markdown",
   "metadata": {},
   "source": [
    "#### Algorithm Testing: Oversampled Data"
   ]
  },
  {
   "cell_type": "code",
   "execution_count": 33,
   "metadata": {},
   "outputs": [
    {
     "name": "stdout",
     "output_type": "stream",
     "text": [
      "LogisticRegression\n",
      "Accuracy : 0.6714543898031009\n",
      "CV Score : 0.6448461057117938\n",
      "AUC Score :  0.7110250068924462\n",
      "              precision    recall  f1-score   support\n",
      "\n",
      "           0       0.71      0.59      0.64     10513\n",
      "           1       0.65      0.75      0.70     10513\n",
      "\n",
      "    accuracy                           0.67     21026\n",
      "   macro avg       0.68      0.67      0.67     21026\n",
      "weighted avg       0.68      0.67      0.67     21026\n",
      "\n",
      "[[7931 2582]\n",
      " [4326 6187]]\n",
      "Time Taken : 2.0450801849365234 seconds\n",
      "------------------------------------------------------------\n",
      "DecisionTreeClassifier\n",
      "Accuracy : 0.8001997526871493\n",
      "CV Score : 0.5390359355416786\n",
      "AUC Score :  0.8001997526871493\n",
      "              precision    recall  f1-score   support\n",
      "\n",
      "           0       0.81      0.79      0.80     10513\n",
      "           1       0.79      0.82      0.80     10513\n",
      "\n",
      "    accuracy                           0.80     21026\n",
      "   macro avg       0.80      0.80      0.80     21026\n",
      "weighted avg       0.80      0.80      0.80     21026\n",
      "\n",
      "[[8570 1943]\n",
      " [2258 8255]]\n",
      "Time Taken : 2.1223604679107666 seconds\n",
      "------------------------------------------------------------\n",
      "RandomForestClassifier\n",
      "Accuracy : 0.8722058403880909\n",
      "CV Score : 0.5645259487895512\n",
      "AUC Score :  0.9470746581651128\n",
      "              precision    recall  f1-score   support\n",
      "\n",
      "           0       0.87      0.87      0.87     10513\n",
      "           1       0.87      0.87      0.87     10513\n",
      "\n",
      "    accuracy                           0.87     21026\n",
      "   macro avg       0.87      0.87      0.87     21026\n",
      "weighted avg       0.87      0.87      0.87     21026\n",
      "\n",
      "[[9193 1320]\n",
      " [1367 9146]]\n",
      "Time Taken : 32.129215478897095 seconds\n",
      "------------------------------------------------------------\n"
     ]
    }
   ],
   "source": [
    "run_models(X_1_ov,y_1_ov,x_2_ov,y_2_ov,X_sm,y_sm,models,features)"
   ]
  },
  {
   "cell_type": "markdown",
   "metadata": {},
   "source": [
    "**Conclusion: Apparently, the model that had the best results was RandomForest, and even improved after oversampling. One of the favorable metrics is the AUC. When AUC is 0.93 it means that there is a 90% probability that the model can distinguish between positive default and zero default. In addition, it has a balanced F1 score, giving weight also to the default which I consider important which is rank one. RandomForest itself is a very efficient ensemble learning method.**"
   ]
  },
  {
   "cell_type": "markdown",
   "metadata": {},
   "source": [
    "## Model Selected - Conclusion"
   ]
  },
  {
   "cell_type": "markdown",
   "metadata": {},
   "source": [
    "### RandomForest: Model Selected"
   ]
  },
  {
   "cell_type": "code",
   "execution_count": 49,
   "metadata": {},
   "outputs": [],
   "source": [
    "RF= RandomForestClassifier(n_estimators =100).fit(X_1_ov[features],y_1_ov)"
   ]
  },
  {
   "cell_type": "code",
   "execution_count": 35,
   "metadata": {},
   "outputs": [],
   "source": [
    "def predict_test (model, #enter selected RF model\n",
    "                  testdata, #enter data to be checked\n",
    "                  features #selected featured\n",
    "                 ):\n",
    "    xtest = testdata.drop('default',axis=1)\n",
    "    ytest = testdata['default']\n",
    "    t0 = time.time()\n",
    "    y_pred = model.predict(xtest[features])\n",
    "    proba = model.predict_proba(xtest[features])\n",
    "    roc_score = roc_auc_score(ytest, proba[:,1])\n",
    "    score = accuracy_score(ytest,y_pred)\n",
    "    bin_clf_rep = classification_report(ytest,y_pred, zero_division=1)\n",
    "    name = str(model)\n",
    "    print(name[0:name.find(\"(\")])\n",
    "    print(\"Accuracy :\", score)\n",
    "    print(\"AUC Score : \", roc_score)\n",
    "    print(bin_clf_rep)\n",
    "    print(confusion_matrix(ytest,y_pred,labels=[1,0]))\n",
    "    print(\"Time Taken :\", time.time()-t0, \"seconds\")\n",
    "    print(\"------------------------------------------------------------\")\n",
    "    proba1 = proba[:,1]\n",
    "    return xtest, y_pred, proba1 #retorna los datos probados, las predicciones de default y la probabilidad"
   ]
  },
  {
   "cell_type": "markdown",
   "metadata": {},
   "source": [
    "**I defined a function for the selected model. In case you want to test the \"validation_dataset\" directly. You can enter the dataframe directly as long as it keeps the same characteristics as the default dataset. The function returns an array for the predictions and another one for the probabilities that can be stored in variables**."
   ]
  },
  {
   "cell_type": "markdown",
   "metadata": {},
   "source": [
    "I proceeded to do an exercise using as a test the total data without balances. That is, the original default set."
   ]
  },
  {
   "cell_type": "code",
   "execution_count": 50,
   "metadata": {},
   "outputs": [
    {
     "name": "stdout",
     "output_type": "stream",
     "text": [
      "RandomForestClassifier\n",
      "Accuracy : 0.9274616950605379\n",
      "AUC Score :  0.9643380044422579\n",
      "              precision    recall  f1-score   support\n",
      "\n",
      "           0       0.97      0.94      0.96     23362\n",
      "           1       0.75      0.85      0.79      4637\n",
      "\n",
      "    accuracy                           0.93     27999\n",
      "   macro avg       0.86      0.90      0.88     27999\n",
      "weighted avg       0.93      0.93      0.93     27999\n",
      "\n",
      "[[ 3933   704]\n",
      " [ 1327 22035]]\n",
      "Time Taken : 0.8656861782073975 seconds\n",
      "------------------------------------------------------------\n"
     ]
    }
   ],
   "source": [
    "xtest, y_pred, proba = predict_test(RF,data,features)"
   ]
  },
  {
   "cell_type": "markdown",
   "metadata": {},
   "source": [
    "You can see that the model is very assertive. I tried to do a parameter optimization using GridSearch. However the process took more than two hours and the result was not so different."
   ]
  },
  {
   "cell_type": "markdown",
   "metadata": {},
   "source": [
    "#### The variable saved as proba is the Probability of Non-Payment of a customer."
   ]
  },
  {
   "cell_type": "code",
   "execution_count": 51,
   "metadata": {},
   "outputs": [
    {
     "data": {
      "text/plain": [
       "array([0.72, 0.59, 0.83, ..., 0.16, 0.18, 0.06])"
      ]
     },
     "execution_count": 51,
     "metadata": {},
     "output_type": "execute_result"
    }
   ],
   "source": [
    "proba"
   ]
  },
  {
   "cell_type": "code",
   "execution_count": null,
   "metadata": {},
   "outputs": [],
   "source": []
  }
 ],
 "metadata": {
  "kernelspec": {
   "display_name": "Python 3",
   "language": "python",
   "name": "python3"
  },
  "language_info": {
   "codemirror_mode": {
    "name": "ipython",
    "version": 3
   },
   "file_extension": ".py",
   "mimetype": "text/x-python",
   "name": "python",
   "nbconvert_exporter": "python",
   "pygments_lexer": "ipython3",
   "version": "3.8.5"
  }
 },
 "nbformat": 4,
 "nbformat_minor": 4
}
